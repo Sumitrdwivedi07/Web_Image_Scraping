{
 "cells": [
  {
   "cell_type": "code",
   "execution_count": 2,
   "id": "25491b99",
   "metadata": {},
   "outputs": [
    {
     "name": "stdout",
     "output_type": "stream",
     "text": [
      "Enter the name of the person: Sumit\n",
      "Error downloading image: Invalid URL '/images/branding/searchlogo/1x/googlelogo_desk_heirloom_color_150x55dp.gif': No scheme supplied. Perhaps you meant http:///images/branding/searchlogo/1x/googlelogo_desk_heirloom_color_150x55dp.gif?\n",
      "Downloaded 20 images of Sumit.\n"
     ]
    }
   ],
   "source": [
    "import os\n",
    "import requests\n",
    "from bs4 import BeautifulSoup\n",
    "from urllib.parse import quote\n",
    "\n",
    "def download_images(person_name, num_images):\n",
    "    # Create a directory to store the downloaded images\n",
    "    os.makedirs(person_name, exist_ok=True)\n",
    "    \n",
    "    # Encode the person's name for the URL\n",
    "    encoded_name = quote(person_name)\n",
    "    \n",
    "    # Construct the Google Images URL\n",
    "    url = f\"https://www.google.com/search?q={encoded_name}&tbm=isch\"\n",
    "    \n",
    "    # Send a GET request to the URL\n",
    "    response = requests.get(url, headers={\"User-Agent\": \"Mozilla/5.0\"})\n",
    "    \n",
    "    # Parse the HTML content using BeautifulSoup\n",
    "    soup = BeautifulSoup(response.content, \"html.parser\")\n",
    "    \n",
    "    # Find all the image elements\n",
    "    image_elements = soup.find_all(\"img\")\n",
    "    \n",
    "    # Download the images\n",
    "    count = 0\n",
    "    for image_element in image_elements:\n",
    "        # Get the image source URL\n",
    "        image_url = image_element[\"src\"]\n",
    "        \n",
    "        try:\n",
    "            # Send a GET request to the image URL\n",
    "            image_response = requests.get(image_url, stream=True)\n",
    "            \n",
    "            # Set the path to save the image\n",
    "            image_path = os.path.join(person_name, f\"{count+1}.jpg\")\n",
    "            \n",
    "            # Save the image to the local system\n",
    "            with open(image_path, \"wb\") as image_file:\n",
    "                for chunk in image_response.iter_content(1024):\n",
    "                    image_file.write(chunk)\n",
    "            \n",
    "            # Increment the count\n",
    "            count += 1\n",
    "            \n",
    "            # Break the loop if the desired number of images is downloaded\n",
    "            if count >= num_images:\n",
    "                break\n",
    "                \n",
    "        except Exception as e:\n",
    "            print(f\"Error downloading image: {e}\")\n",
    "    \n",
    "    print(f\"Downloaded {count} images of {person_name}.\")\n",
    "\n",
    "# User input\n",
    "person_name = input(\"Enter the name of the person: \")\n",
    "num_images = 50\n",
    "\n",
    "# Call the function to download the images\n",
    "download_images(person_name, num_images)\n"
   ]
  },
  {
   "cell_type": "code",
   "execution_count": null,
   "id": "0c77e663",
   "metadata": {},
   "outputs": [],
   "source": []
  }
 ],
 "metadata": {
  "kernelspec": {
   "display_name": "Python 3 (ipykernel)",
   "language": "python",
   "name": "python3"
  },
  "language_info": {
   "codemirror_mode": {
    "name": "ipython",
    "version": 3
   },
   "file_extension": ".py",
   "mimetype": "text/x-python",
   "name": "python",
   "nbconvert_exporter": "python",
   "pygments_lexer": "ipython3",
   "version": "3.9.13"
  }
 },
 "nbformat": 4,
 "nbformat_minor": 5
}
